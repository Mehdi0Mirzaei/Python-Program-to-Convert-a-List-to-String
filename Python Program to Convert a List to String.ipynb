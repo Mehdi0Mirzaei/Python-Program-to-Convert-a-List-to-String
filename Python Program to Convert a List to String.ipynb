{
 "cells": [
  {
   "cell_type": "code",
   "execution_count": 3,
   "id": "a4a57b49",
   "metadata": {},
   "outputs": [
    {
     "name": "stdout",
     "output_type": "stream",
     "text": [
      "mother father son \n"
     ]
    }
   ],
   "source": [
    "def list_string(start, l, word):\n",
    "    if start == len(l):\n",
    "        return word  # base condition to return string\n",
    "    word += str(l[start])+' '  # concatenating element in list to word variable\n",
    "    return list_string(start+1, l, word)  # calling recursive function\n",
    " \n",
    "l = ['mother', 'father', 'son']  # defining list\n",
    "print(list_string(0, l, ''))"
   ]
  },
  {
   "cell_type": "code",
   "execution_count": 4,
   "id": "0833db66",
   "metadata": {},
   "outputs": [
    {
     "name": "stdout",
     "output_type": "stream",
     "text": [
      "1.23 good 3.46\n"
     ]
    }
   ],
   "source": [
    "\n",
    "lst = [1.2345, 'good' , 3.4567]\n",
    " \n",
    "# Convert the list to a string using str.format\n",
    "result = \"{:.2f} {} {:.2f}\".format(*lst)\n",
    " \n",
    "print(result)"
   ]
  },
  {
   "cell_type": "code",
   "execution_count": 5,
   "id": "9048010d",
   "metadata": {},
   "outputs": [
    {
     "name": "stdout",
     "output_type": "stream",
     "text": [
      "mother father son\n"
     ]
    }
   ],
   "source": [
    "\n",
    "lst = ['mother', 'father', 'son']\n",
    " \n",
    "# Convert the list to a string using str.format\n",
    "result = \"{} {} {}\".format(*lst)\n",
    " \n",
    "print(result) "
   ]
  },
  {
   "cell_type": "code",
   "execution_count": 6,
   "id": "5f0eb657",
   "metadata": {},
   "outputs": [
    {
     "name": "stdout",
     "output_type": "stream",
     "text": [
      "I want 4 apples and 18 bananas\n"
     ]
    }
   ],
   "source": [
    "\n",
    "from functools import reduce\n",
    "s = ['I', 'want', 4, 'apples', 'and', 18, 'bananas']\n",
    " \n",
    "listToStr = reduce(lambda a, b : a+ \" \" +str(b), s)\n",
    " \n",
    "print(listToStr)"
   ]
  },
  {
   "cell_type": "code",
   "execution_count": 7,
   "id": "8cf7df59",
   "metadata": {},
   "outputs": [
    {
     "name": "stdout",
     "output_type": "stream",
     "text": [
      "I want 4 apples and 18 bananas\n"
     ]
    }
   ],
   "source": [
    "\n",
    "s = ['I', 'want', 4, 'apples', 'and', 18, 'bananas']\n",
    " \n",
    "listToStr = ' '.join([str(elem) for i,elem in enumerate(s)])\n",
    " \n",
    "print(listToStr)"
   ]
  },
  {
   "cell_type": "code",
   "execution_count": 8,
   "id": "d8baa60e",
   "metadata": {},
   "outputs": [
    {
     "name": "stdout",
     "output_type": "stream",
     "text": [
      "I want 4 apples and 18 bananas\n"
     ]
    }
   ],
   "source": [
    "\n",
    "# Python program to convert a list to string using list comprehension\n",
    "  \n",
    "s = ['I', 'want', 4, 'apples', 'and', 18, 'bananas']\n",
    " \n",
    "# using list comprehension\n",
    "listToStr = ' '.join(map(str, s))\n",
    " \n",
    "print(listToStr)"
   ]
  },
  {
   "cell_type": "code",
   "execution_count": 9,
   "id": "a6429cf5",
   "metadata": {},
   "outputs": [
    {
     "name": "stdout",
     "output_type": "stream",
     "text": [
      "I want 4 apples and 18 bananas\n"
     ]
    }
   ],
   "source": [
    "\n",
    "# Python program to convert a list to string using list comprehension\n",
    "s = ['I', 'want', 4, 'apples', 'and', 18, 'bananas']\n",
    " \n",
    "# using list comprehension\n",
    "listToStr = ' '.join([str(elem) for elem in s])\n",
    " \n",
    "print(listToStr)"
   ]
  },
  {
   "cell_type": "code",
   "execution_count": 10,
   "id": "b8caec6c",
   "metadata": {},
   "outputs": [
    {
     "name": "stdout",
     "output_type": "stream",
     "text": [
      "mother father  son\n"
     ]
    }
   ],
   "source": [
    "\n",
    "# Function to convert\n",
    "def listToString(s):\n",
    "    \n",
    "    str1 = \" \"\n",
    "    return (str1.join(s))\n",
    "     \n",
    "     \n",
    "# Driver code\n",
    "s = ['mother', 'father ', 'son']\n",
    "print(listToString(s))"
   ]
  },
  {
   "cell_type": "code",
   "execution_count": null,
   "id": "3d7beff6",
   "metadata": {},
   "outputs": [],
   "source": []
  }
 ],
 "metadata": {
  "kernelspec": {
   "display_name": "Python 3 (ipykernel)",
   "language": "python",
   "name": "python3"
  },
  "language_info": {
   "codemirror_mode": {
    "name": "ipython",
    "version": 3
   },
   "file_extension": ".py",
   "mimetype": "text/x-python",
   "name": "python",
   "nbconvert_exporter": "python",
   "pygments_lexer": "ipython3",
   "version": "3.9.17"
  }
 },
 "nbformat": 4,
 "nbformat_minor": 5
}
